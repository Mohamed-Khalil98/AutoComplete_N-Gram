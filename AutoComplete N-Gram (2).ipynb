{
 "cells": [
  {
   "cell_type": "code",
   "execution_count": 1,
   "id": "a51a7937",
   "metadata": {},
   "outputs": [
    {
     "name": "stderr",
     "output_type": "stream",
     "text": [
      "[nltk_data] Downloading package punkt to\n",
      "[nltk_data]     C:\\Users\\Khalil\\AppData\\Roaming\\nltk_data...\n",
      "[nltk_data]   Package punkt is already up-to-date!\n",
      "[nltk_data] Downloading package stopwords to\n",
      "[nltk_data]     C:\\Users\\Khalil\\AppData\\Roaming\\nltk_data...\n",
      "[nltk_data]   Package stopwords is already up-to-date!\n"
     ]
    }
   ],
   "source": [
    "import nltk\n",
    "nltk.download('punkt')\n",
    "nltk.download('stopwords')\n",
    "\n",
    "from nltk.tokenize import word_tokenize\n",
    "from nltk.corpus import stopwords\n",
    "\n",
    "def preprocess(text):\n",
    "    tokens = word_tokenize(text.lower())\n",
    "    stop_words = set(stopwords.words('english'))\n",
    "    tokens = [token for token in tokens if token.isalpha() and token not in stop_words]\n",
    "    return tokens\n",
    "\n",
    "# Load the dataset\n",
    "with open('Pride and Prejudice.txt', 'r' , encoding = 'utf8') as f:\n",
    "    text = f.read()\n",
    "\n",
    "# Preprocess the text\n",
    "tokens = preprocess(text)"
   ]
  },
  {
   "cell_type": "code",
   "execution_count": 2,
   "id": "91c9e1dc",
   "metadata": {},
   "outputs": [],
   "source": [
    "def train_model(tokens, n=2):\n",
    "    model = {}\n",
    "    for i in range(len(tokens)-n):\n",
    "        key = tuple(tokens[i:i+n])\n",
    "        value = tokens[i+n]\n",
    "        if key in model:\n",
    "            if value in model[key]:\n",
    "                model[key][value] += 1\n",
    "            else:\n",
    "                model[key][value] = 1\n",
    "        else:\n",
    "            model[key] = {value: 1}\n",
    "    return model\n",
    "\n",
    "# Train the model\n",
    "model = train_model(tokens, n=2)"
   ]
  },
  {
   "cell_type": "code",
   "execution_count": 3,
   "id": "4c74ceab",
   "metadata": {},
   "outputs": [
    {
     "name": "stdout",
     "output_type": "stream",
     "text": [
      "Enter two or three words: displayed consummate\n",
      "Next word prediction: command\n"
     ]
    }
   ],
   "source": [
    "def generate_prediction(model, prefix):\n",
    "    if prefix in model:\n",
    "        suffixes = model[prefix]\n",
    "        return max(suffixes, key=suffixes.get)\n",
    "    else:\n",
    "        return None\n",
    "\n",
    "# Take input from user\n",
    "input_str = input(\"Enter two or three words: \")\n",
    "\n",
    "# Preprocess the input\n",
    "input_tokens = preprocess(input_str)\n",
    "\n",
    "# Generate prediction\n",
    "prediction = generate_prediction(model, tuple(input_tokens))\n",
    "\n",
    "# Print the prediction\n",
    "if prediction:\n",
    "    print(\"Next word prediction:\", prediction)\n",
    "else:\n",
    "    print(\"No prediction found.\")"
   ]
  },
  {
   "cell_type": "code",
   "execution_count": 4,
   "id": "f5b9006e",
   "metadata": {},
   "outputs": [
    {
     "name": "stdout",
     "output_type": "stream",
     "text": [
      "Accuracy: 0.00985741946840345\n"
     ]
    }
   ],
   "source": [
    "import random\n",
    "\n",
    "def train_test_split(tokens, test_size=0.2):\n",
    "    n = len(tokens)\n",
    "    train_size = int((1-test_size) * n)\n",
    "    train_tokens = tokens[:train_size]\n",
    "    test_tokens = tokens[train_size:]\n",
    "    return train_tokens, test_tokens\n",
    "\n",
    "def evaluate_model(model, test_tokens):\n",
    "    n_correct = 0\n",
    "    n_total = 0\n",
    "    for i in range(len(test_tokens)-2):\n",
    "        prefix = tuple(test_tokens[i:i+2])\n",
    "        true_suffix = test_tokens[i+2]\n",
    "        pred_suffix = generate_prediction(model, prefix)\n",
    "        if pred_suffix == true_suffix:\n",
    "            n_correct += 1\n",
    "        n_total += 1\n",
    "    return float(n_correct) / n_total\n",
    "\n",
    "# Split the dataset into training and testing sets\n",
    "train_tokens, test_tokens = train_test_split(tokens, test_size=0.2)\n",
    "\n",
    "# Train the model on the training set\n",
    "model = train_model(train_tokens, n=2)\n",
    "\n",
    "# Evaluate the accuracy on the testing set\n",
    "accuracy = evaluate_model(model, test_tokens)\n",
    "print(\"Accuracy:\", accuracy)"
   ]
  },
  {
   "cell_type": "code",
   "execution_count": null,
   "id": "7aa88bcc",
   "metadata": {},
   "outputs": [],
   "source": []
  }
 ],
 "metadata": {
  "kernelspec": {
   "display_name": "Python 3",
   "language": "python",
   "name": "python3"
  },
  "language_info": {
   "codemirror_mode": {
    "name": "ipython",
    "version": 3
   },
   "file_extension": ".py",
   "mimetype": "text/x-python",
   "name": "python",
   "nbconvert_exporter": "python",
   "pygments_lexer": "ipython3",
   "version": "3.8.8"
  }
 },
 "nbformat": 4,
 "nbformat_minor": 5
}
